{
 "cells": [
  {
   "cell_type": "code",
   "execution_count": 1,
   "metadata": {},
   "outputs": [
    {
     "name": "stdout",
     "output_type": "stream",
     "text": [
      "10 10\n",
      "20\n",
      "0 0\n"
     ]
    }
   ],
   "source": [
    "#A+B\n",
    "while True:\n",
    "    A,B = map(int,input().split())\n",
    "    if A==0 and B== 0 :\n",
    "        break;\n",
    "    else :\n",
    "        print(A+B)"
   ]
  },
  {
   "cell_type": "code",
   "execution_count": 2,
   "metadata": {},
   "outputs": [
    {
     "name": "stdout",
     "output_type": "stream",
     "text": [
      "10 10\n",
      "20\n",
      "\n"
     ]
    }
   ],
   "source": [
    "#A+B\n",
    "while True:\n",
    "    try :\n",
    "        a,b = map(int,input().split())\n",
    "        print(a+b)\n",
    "    except:\n",
    "        break"
   ]
  },
  {
   "cell_type": "code",
   "execution_count": 3,
   "metadata": {},
   "outputs": [
    {
     "name": "stdout",
     "output_type": "stream",
     "text": [
      "26\n",
      "4\n"
     ]
    }
   ],
   "source": [
    "#더하기 사이클\n",
    "N = int(input())\n",
    "\n",
    "def make_new_number(N):\n",
    "    num_list = []\n",
    "    if 0<=N<10:\n",
    "        num_list.append(0)\n",
    "        num_list.append(N)\n",
    "    elif 10<=N<=99:\n",
    "        num_list.append(int(N/10))\n",
    "        N = N%10\n",
    "        num_list.append(N)\n",
    "    \n",
    "    sum1 = int(num_list[0]) + int(num_list[1])\n",
    "    sum2 = []\n",
    "    \n",
    "    if sum1 <10 :\n",
    "        sum2 = [0,sum1]\n",
    "    else :\n",
    "        sum2.append(int(sum1/10))\n",
    "        sum1 = sum1%10\n",
    "        sum2.append(sum1)\n",
    "    \n",
    "    N = int(str(num_list[1])+str(sum2[1]))\n",
    "    return N\n",
    "\n",
    "M = N\n",
    "k = 1\n",
    "while M != make_new_number(N):\n",
    "    k = k + 1\n",
    "    N = make_new_number(N)\n",
    "print(k)"
   ]
  },
  {
   "cell_type": "code",
   "execution_count": null,
   "metadata": {},
   "outputs": [],
   "source": []
  }
 ],
 "metadata": {
  "kernelspec": {
   "display_name": "Python 3",
   "language": "python",
   "name": "python3"
  },
  "language_info": {
   "codemirror_mode": {
    "name": "ipython",
    "version": 3
   },
   "file_extension": ".py",
   "mimetype": "text/x-python",
   "name": "python",
   "nbconvert_exporter": "python",
   "pygments_lexer": "ipython3",
   "version": "3.7.6"
  }
 },
 "nbformat": 4,
 "nbformat_minor": 4
}
