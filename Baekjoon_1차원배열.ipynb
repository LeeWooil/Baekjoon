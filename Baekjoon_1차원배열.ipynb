{
 "cells": [
  {
   "cell_type": "code",
   "execution_count": 1,
   "metadata": {},
   "outputs": [
    {
     "name": "stdout",
     "output_type": "stream",
     "text": [
      "5\n",
      "20 10 35 30 7\n",
      "7 35\n"
     ]
    }
   ],
   "source": [
    "#최소 최대\n",
    "N = int(input())\n",
    "x = list(map(int, input().split()))\n",
    "\n",
    "print(min(x),max(x))"
   ]
  },
  {
   "cell_type": "code",
   "execution_count": 2,
   "metadata": {},
   "outputs": [
    {
     "name": "stdout",
     "output_type": "stream",
     "text": [
      "3\n",
      "29\n",
      "38\n",
      "12\n",
      "57\n",
      "74\n",
      "40\n",
      "85\n",
      "61\n",
      "85\n",
      "8\n"
     ]
    }
   ],
   "source": [
    "#최댓값 위치\n",
    "num = []\n",
    "for _ in range(9):\n",
    "    x = int(input())\n",
    "    num.append(x)\n",
    "print(max(num))\n",
    "print(int(num.index(max(num)))+1)"
   ]
  },
  {
   "cell_type": "code",
   "execution_count": 3,
   "metadata": {},
   "outputs": [
    {
     "name": "stdout",
     "output_type": "stream",
     "text": [
      "150\n",
      "266\n",
      "427\n",
      "3\n",
      "1\n",
      "0\n",
      "2\n",
      "0\n",
      "0\n",
      "0\n",
      "2\n",
      "0\n",
      "0\n"
     ]
    }
   ],
   "source": [
    "#숫자의 개수\n",
    "x=[]\n",
    "z=[]\n",
    "for _ in range(3):    \n",
    "    x.append(int(input()))\n",
    "y = str(x[0]*x[1]*x[2])\n",
    "for i in range(len(y)):\n",
    "    z.append(int(y[i:i+1]))\n",
    "    \n",
    "for j in range(10):\n",
    "    print(z.count(j))"
   ]
  },
  {
   "cell_type": "code",
   "execution_count": 4,
   "metadata": {},
   "outputs": [
    {
     "name": "stdout",
     "output_type": "stream",
     "text": [
      "39\n",
      "40\n",
      "41\n",
      "42\n",
      "43\n",
      "44\n",
      "82\n",
      "83\n",
      "84\n",
      "85\n",
      "6\n"
     ]
    }
   ],
   "source": [
    "#서로 다른 나머지 개수\n",
    "y=[]\n",
    "for _ in range(10):\n",
    "    x=int(input())\n",
    "    if y.count(x%42) == 0:\n",
    "        y.append(x%42)\n",
    "print(len(y))"
   ]
  },
  {
   "cell_type": "code",
   "execution_count": 5,
   "metadata": {},
   "outputs": [
    {
     "name": "stdout",
     "output_type": "stream",
     "text": [
      "3\n",
      "40 80 60\n",
      "75.0\n"
     ]
    }
   ],
   "source": [
    "#새로운 평균 구하기\n",
    "N = int(input())\n",
    "x = list(map(int,input().split()))\n",
    "y = 0\n",
    "for i in range(len(x)):\n",
    "    y=y+(x[i]/max(x)*100)\n",
    "    \n",
    "print(y/N)"
   ]
  },
  {
   "cell_type": "code",
   "execution_count": 6,
   "metadata": {},
   "outputs": [
    {
     "name": "stdout",
     "output_type": "stream",
     "text": [
      "5\n",
      "OOXXOXXOOO\n",
      "10\n",
      "OOXXOOXXOO\n",
      "9\n",
      "OXOXOXOXOXOXOX\n",
      "7\n",
      "OOOOOOOOOO\n",
      "55\n",
      "OOOOXOOOOXOOOOX\n",
      "30\n"
     ]
    }
   ],
   "source": [
    "#OX퀴즈 점수 구하기(문제를 맞은 경우 그 문제의 점수는 그 문제까지 연속된 O의 개수가 된다)\n",
    "N = int(input())\n",
    "j = [-1]\n",
    "c = 0\n",
    "for _ in range(N):\n",
    "    a = str(input())\n",
    "    j = [-1]\n",
    "    c = 0\n",
    "    for i in range(len(a)):\n",
    "        if a[i:i+1] =='X':\n",
    "            j.append(i)\n",
    "    j.append(len(a))\n",
    "\n",
    "    for k in range(1,len(j)):\n",
    "        n = j[k]-j[k-1]-1\n",
    "    \n",
    "        b = int((n*(n+1))/2)\n",
    "        c = c + b\n",
    "    print(c)"
   ]
  },
  {
   "cell_type": "code",
   "execution_count": 7,
   "metadata": {},
   "outputs": [
    {
     "name": "stdout",
     "output_type": "stream",
     "text": [
      "5\n",
      "5 50 50 70 80 100\n",
      "40.000%\n",
      "7 100 95 90 80 70 60 50\n",
      "57.143%\n",
      "3 70 9080\n",
      "50.000%\n",
      "3 70 90 81\n",
      "66.667%\n",
      "9 100 99 98 97 96 95 94 93 91\n",
      "55.556%\n"
     ]
    }
   ],
   "source": [
    "#평균 넘는 비율 구하기\n",
    "C = int(input())\n",
    "for _ in range(C):\n",
    "    score=[]\n",
    "    high_score=[]\n",
    "    score = list(map(int,input().split()))\n",
    "    score_avg = sum(score[1:len(score)+1])/(len(score)-1)\n",
    "    for i in range(1,len(score)):\n",
    "        if score[i] > score_avg:\n",
    "            high_score.append(score[i])\n",
    "    high_rate = round(float(len(high_score)/(len(score)-1)*100),5)\n",
    "    \n",
    "    print(((\"{:.3f}\".format(high_rate)) + '%'))"
   ]
  },
  {
   "cell_type": "code",
   "execution_count": null,
   "metadata": {},
   "outputs": [],
   "source": []
  }
 ],
 "metadata": {
  "kernelspec": {
   "display_name": "Python 3",
   "language": "python",
   "name": "python3"
  },
  "language_info": {
   "codemirror_mode": {
    "name": "ipython",
    "version": 3
   },
   "file_extension": ".py",
   "mimetype": "text/x-python",
   "name": "python",
   "nbconvert_exporter": "python",
   "pygments_lexer": "ipython3",
   "version": "3.7.6"
  }
 },
 "nbformat": 4,
 "nbformat_minor": 4
}
