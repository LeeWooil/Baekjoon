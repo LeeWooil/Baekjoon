{
 "cells": [
  {
   "cell_type": "code",
   "execution_count": 4,
   "metadata": {},
   "outputs": [
    {
     "name": "stdout",
     "output_type": "stream",
     "text": [
      "10 20\n",
      "<\n"
     ]
    }
   ],
   "source": [
    "#두 수 비교하기\n",
    "a,b = map(int, input().split())\n",
    "\n",
    "if a>b :\n",
    "    print('>')\n",
    "elif a<b :\n",
    "    print('<')\n",
    "else:\n",
    "    print('==')"
   ]
  },
  {
   "cell_type": "code",
   "execution_count": 3,
   "metadata": {},
   "outputs": [
    {
     "name": "stdout",
     "output_type": "stream",
     "text": [
      "100\n",
      "A\n"
     ]
    }
   ],
   "source": [
    "#시험 성적\n",
    "score = int(input())\n",
    "\n",
    "if 90<= score <=100:\n",
    "    print('A')\n",
    "elif 80<= score < 90:\n",
    "    print('B')\n",
    "elif 70<= score < 80 :\n",
    "    print('C')\n",
    "elif 60<= score < 70:\n",
    "    print('D')\n",
    "else :\n",
    "    print('F')"
   ]
  },
  {
   "cell_type": "code",
   "execution_count": 5,
   "metadata": {},
   "outputs": [
    {
     "name": "stdout",
     "output_type": "stream",
     "text": [
      "2020\n",
      "1\n"
     ]
    }
   ],
   "source": [
    "#윤년\n",
    "year = int(input())\n",
    "\n",
    "if 1<= year <= 4000:\n",
    "    if (year%4==0 and year%100 != 0) or year%400 ==0:\n",
    "        print(\"1\")\n",
    "    else :\n",
    "        print(\"0\")"
   ]
  },
  {
   "cell_type": "code",
   "execution_count": 7,
   "metadata": {},
   "outputs": [
    {
     "name": "stdout",
     "output_type": "stream",
     "text": [
      "10\n",
      "10\n",
      "1\n"
     ]
    }
   ],
   "source": [
    "#사분면 고르기\n",
    "x = int(input())\n",
    "y = int(input())\n",
    "\n",
    "if (-1000<=x<=1000 and -1000<=y<=1000) and x != 0 and y != 0:\n",
    "    if x>0 and y>0:\n",
    "        print(\"1\")\n",
    "    elif x<0 and y>0:\n",
    "        print(\"2\")\n",
    "    elif x<0 and y<0 :\n",
    "        print('3')\n",
    "    else :\n",
    "        print('4')"
   ]
  },
  {
   "cell_type": "code",
   "execution_count": 9,
   "metadata": {},
   "outputs": [
    {
     "name": "stdout",
     "output_type": "stream",
     "text": [
      "0 0\n",
      "23 15\n"
     ]
    }
   ],
   "source": [
    "#알람시계\n",
    "H,M = map(int, input().split())\n",
    "\n",
    "if 0<=H<=23 and 0<=M<=59:\n",
    "    if M-45<0 :\n",
    "        if H == 0:\n",
    "            print(23,M+15)\n",
    "        else :\n",
    "            print(H-1,M+15)\n",
    "    else :\n",
    "        print(H, M-45)"
   ]
  },
  {
   "cell_type": "code",
   "execution_count": null,
   "metadata": {},
   "outputs": [],
   "source": []
  }
 ],
 "metadata": {
  "kernelspec": {
   "display_name": "Python 3",
   "language": "python",
   "name": "python3"
  },
  "language_info": {
   "codemirror_mode": {
    "name": "ipython",
    "version": 3
   },
   "file_extension": ".py",
   "mimetype": "text/x-python",
   "name": "python",
   "nbconvert_exporter": "python",
   "pygments_lexer": "ipython3",
   "version": "3.7.6"
  }
 },
 "nbformat": 4,
 "nbformat_minor": 4
}
