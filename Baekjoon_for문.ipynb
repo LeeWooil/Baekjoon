{
 "cells": [
  {
   "cell_type": "code",
   "execution_count": 1,
   "metadata": {},
   "outputs": [
    {
     "name": "stdout",
     "output_type": "stream",
     "text": [
      "3\n",
      "3 * 1 = 3\n",
      "3 * 2 = 6\n",
      "3 * 3 = 9\n",
      "3 * 4 = 12\n",
      "3 * 5 = 15\n",
      "3 * 6 = 18\n",
      "3 * 7 = 21\n",
      "3 * 8 = 24\n",
      "3 * 9 = 27\n"
     ]
    }
   ],
   "source": [
    "#구구단\n",
    "N = int(input())\n",
    "\n",
    "if 1<= N <= 9:\n",
    "    for i in range(1,10):\n",
    "        print(N,\"*\",i, \"=\", N*i)"
   ]
  },
  {
   "cell_type": "code",
   "execution_count": 2,
   "metadata": {},
   "outputs": [
    {
     "name": "stdout",
     "output_type": "stream",
     "text": [
      "1\n",
      "2 1\n",
      "3\n"
     ]
    }
   ],
   "source": [
    "#A+B\n",
    "T = int(input())\n",
    "for i in range(T):\n",
    "    A,B = map(int,input().split())\n",
    "    if 0 < A<10 and 0<B<10:\n",
    "        print(A+B)"
   ]
  },
  {
   "cell_type": "code",
   "execution_count": 3,
   "metadata": {},
   "outputs": [
    {
     "name": "stdout",
     "output_type": "stream",
     "text": [
      "5\n",
      "15\n"
     ]
    }
   ],
   "source": [
    "#합\n",
    "n = int(input())\n",
    "a = 0\n",
    "if 1<=n<=10000:\n",
    "    for i in range(1,n+1):\n",
    "        a = a + i\n",
    "\n",
    "print(a)"
   ]
  },
  {
   "cell_type": "code",
   "execution_count": null,
   "metadata": {},
   "outputs": [],
   "source": [
    "#빠른 A+B\n",
    "import sys\n",
    "T = int(input())\n",
    "\n",
    "for i in range(T):\n",
    "    A,B = map(int, sys.stdin.readline().split())\n",
    "    if T<=1000000 and 1<=A<=1000 and 1<=B<=1000 :\n",
    "        print(A+B)"
   ]
  },
  {
   "cell_type": "code",
   "execution_count": 4,
   "metadata": {},
   "outputs": [
    {
     "name": "stdout",
     "output_type": "stream",
     "text": [
      "5\n",
      "1\n",
      "2\n",
      "3\n",
      "4\n",
      "5\n"
     ]
    }
   ],
   "source": [
    "#N찍기\n",
    "N = int(input())\n",
    "\n",
    "if N <= 100000:\n",
    "    for i in range(1, N+1):\n",
    "        print(i)"
   ]
  },
  {
   "cell_type": "code",
   "execution_count": 5,
   "metadata": {},
   "outputs": [
    {
     "name": "stdout",
     "output_type": "stream",
     "text": [
      "5\n",
      "5\n",
      "4\n",
      "3\n",
      "2\n",
      "1\n"
     ]
    }
   ],
   "source": [
    "#거꾸로 N찍기\n",
    "N = int(input())\n",
    "\n",
    "if N <= 100000:\n",
    "    for i in range(N,0,-1):\n",
    "        print(i)"
   ]
  },
  {
   "cell_type": "code",
   "execution_count": 6,
   "metadata": {},
   "outputs": [
    {
     "name": "stdout",
     "output_type": "stream",
     "text": [
      "2\n",
      "1 3\n",
      "Case #1: 4\n",
      "4 5\n",
      "Case #2: 9\n"
     ]
    }
   ],
   "source": [
    "#A+B\n",
    "T = int(input())\n",
    "for i in range(1,T+1):\n",
    "    A,B = map(int, input().split())\n",
    "    if 0<A<10 and 0<B<10:\n",
    "        print(\"Case #\",i,\": \",A+B,sep=\"\")"
   ]
  },
  {
   "cell_type": "code",
   "execution_count": 7,
   "metadata": {},
   "outputs": [
    {
     "name": "stdout",
     "output_type": "stream",
     "text": [
      "3\n",
      "1 2\n",
      "Case #1: 1 + 2 = 3\n",
      "3 4\n",
      "Case #2: 3 + 4 = 7\n",
      "5 6\n",
      "Case #3: 5 + 6 = 11\n"
     ]
    }
   ],
   "source": [
    "#A+B\n",
    "T = int(input())\n",
    "for i in range(1,T+1):\n",
    "    A,B = map(int, input().split())\n",
    "    if 0<A<10 and 0<B<10:\n",
    "        print(\"Case #\",i,\": \",A,\" + \",B,\" = \",A+B,sep=\"\")"
   ]
  },
  {
   "cell_type": "code",
   "execution_count": 8,
   "metadata": {},
   "outputs": [
    {
     "name": "stdout",
     "output_type": "stream",
     "text": [
      "3\n",
      "*\n",
      "**\n",
      "***\n"
     ]
    }
   ],
   "source": [
    "#별찍기\n",
    "N = int(input())\n",
    "if 1<= N <= 1000:\n",
    "    for i in range(1,N+1):\n",
    "        print(\"*\"*i)"
   ]
  },
  {
   "cell_type": "code",
   "execution_count": 9,
   "metadata": {},
   "outputs": [
    {
     "name": "stdout",
     "output_type": "stream",
     "text": [
      "3\n",
      "  *\n",
      " **\n",
      "***\n"
     ]
    }
   ],
   "source": [
    "#별찍기2\n",
    "N = int(input())\n",
    "if 1<= N <= 1000:\n",
    "    for i in range(1,N+1):\n",
    "        print((\"*\"*i).rjust(N))"
   ]
  },
  {
   "cell_type": "code",
   "execution_count": 11,
   "metadata": {},
   "outputs": [
    {
     "name": "stdout",
     "output_type": "stream",
     "text": [
      "10 5\n",
      "1 10 4 9 2 3 8 5 7 6\n",
      "1 4 2 3 "
     ]
    }
   ],
   "source": [
    "#X보다 작은수\n",
    "N, X = map(int,input().split())\n",
    "A =list(map(int,input().split()))\n",
    "slist = []\n",
    "for i in range(N):    \n",
    "    if A[i] < X :\n",
    "        slist.append(A[i])\n",
    "for j in range(len(slist)):\n",
    "    print(slist[j],end=\" \")"
   ]
  },
  {
   "cell_type": "code",
   "execution_count": null,
   "metadata": {},
   "outputs": [],
   "source": []
  }
 ],
 "metadata": {
  "kernelspec": {
   "display_name": "Python 3",
   "language": "python",
   "name": "python3"
  },
  "language_info": {
   "codemirror_mode": {
    "name": "ipython",
    "version": 3
   },
   "file_extension": ".py",
   "mimetype": "text/x-python",
   "name": "python",
   "nbconvert_exporter": "python",
   "pygments_lexer": "ipython3",
   "version": "3.7.6"
  }
 },
 "nbformat": 4,
 "nbformat_minor": 4
}
