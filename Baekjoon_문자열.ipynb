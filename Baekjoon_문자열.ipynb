{
 "cells": [
  {
   "cell_type": "code",
   "execution_count": 1,
   "metadata": {},
   "outputs": [
    {
     "name": "stdout",
     "output_type": "stream",
     "text": [
      "5\n",
      "53\n"
     ]
    }
   ],
   "source": [
    "#아스키코드\n",
    "a = input()\n",
    "if type(a) == str:\n",
    "    print(ord(a))\n",
    "elif type(a) == int:\n",
    "    print(chr(a))"
   ]
  },
  {
   "cell_type": "code",
   "execution_count": 2,
   "metadata": {},
   "outputs": [
    {
     "name": "stdout",
     "output_type": "stream",
     "text": [
      "5\n",
      "54321\n",
      "15\n"
     ]
    }
   ],
   "source": [
    "#숫자의 합\n",
    "N=int(input())\n",
    "a = str(input())\n",
    "N_sum = 0\n",
    "for i in range(N):\n",
    "    N_sum = N_sum + int(a[i])\n",
    "print(N_sum)"
   ]
  },
  {
   "cell_type": "code",
   "execution_count": 3,
   "metadata": {},
   "outputs": [
    {
     "name": "stdout",
     "output_type": "stream",
     "text": [
      "baekjoon\n",
      "1 0 -1 -1 2 -1 -1 -1 -1 4 3 -1 -1 7 5 -1 -1 -1 -1 -1 -1 -1 -1 -1 -1 -1 "
     ]
    }
   ],
   "source": [
    "#알파벳 찾기\n",
    "from string import ascii_lowercase\n",
    "S = str(input())\n",
    "a = list(ascii_lowercase)\n",
    "for i in range(len(a)):\n",
    "    print(S.find(a[i]),end=' ')"
   ]
  },
  {
   "cell_type": "code",
   "execution_count": 4,
   "metadata": {},
   "outputs": [
    {
     "name": "stdout",
     "output_type": "stream",
     "text": [
      "2\n",
      "3 ABC\n",
      "AAABBBCCC\n",
      "5 /HTP\n",
      "/////HHHHHTTTTTPPPPP\n"
     ]
    }
   ],
   "source": [
    "#문자열 반복 출력\n",
    "T=int(input())\n",
    "for _ in range(T):\n",
    "    s=''\n",
    "    R,S = map(str,input().split())\n",
    "    r = int(R)\n",
    "    for i in range(len(S)):\n",
    "        s = s + S[i]*r\n",
    "    print(s)"
   ]
  },
  {
   "cell_type": "code",
   "execution_count": 5,
   "metadata": {},
   "outputs": [
    {
     "name": "stdout",
     "output_type": "stream",
     "text": [
      "Mississipi\n",
      "?\n"
     ]
    }
   ],
   "source": [
    "#가장 많이 사용된 알파벳 찾기\n",
    "from string import ascii_lowercase\n",
    "word = str(input()).lower()\n",
    "a = list(ascii_lowercase)\n",
    "b=[]\n",
    "for i in range(len(a)):\n",
    "    b.append(word.count(a[i]))\n",
    "if b.count(max(b)) == 1:\n",
    "    print(a[b.index(max(b))].upper())\n",
    "else :\n",
    "    print('?')"
   ]
  },
  {
   "cell_type": "code",
   "execution_count": 6,
   "metadata": {},
   "outputs": [
    {
     "name": "stdout",
     "output_type": "stream",
     "text": [
      " Mazatneunde Wae Teullyeoyo\n",
      "3\n"
     ]
    }
   ],
   "source": [
    "#단어의 개수\n",
    "a = list(map(str,input().split(\" \")))\n",
    "if a.count('') != 0:\n",
    "    for _ in range(a.count('')):\n",
    "        a.remove('')\n",
    "print(len(a))"
   ]
  },
  {
   "cell_type": "code",
   "execution_count": 7,
   "metadata": {},
   "outputs": [
    {
     "name": "stdout",
     "output_type": "stream",
     "text": [
      "734 893\n",
      "437\n"
     ]
    }
   ],
   "source": [
    "#숫자 뒤집어 대소비교\n",
    "a,b = map(str,input().split())\n",
    "print(max([a[::-1],b[::-1]]))"
   ]
  },
  {
   "cell_type": "code",
   "execution_count": 8,
   "metadata": {},
   "outputs": [
    {
     "name": "stdout",
     "output_type": "stream",
     "text": [
      "UNUCIC\n",
      "36\n"
     ]
    }
   ],
   "source": [
    "#다이얼 걸리는 시간\n",
    "A = str(input())\n",
    "count = 0\n",
    "for i in range(len(A)):\n",
    "    if A[i] in ['A','B','C']:\n",
    "        count = count + 3\n",
    "    elif A[i] in ['D','E','F']:\n",
    "        count = count + 4\n",
    "    elif A[i] in ['G','H','I']:\n",
    "        count = count + 5\n",
    "    elif A[i] in ['J','K','L']:\n",
    "        count = count + 6\n",
    "    elif A[i] in ['M','N','O']:\n",
    "        count = count + 7\n",
    "    elif A[i] in ['P','Q','R','S']:\n",
    "        count = count + 8\n",
    "    elif A[i] in ['T','U','V']:\n",
    "        count = count + 9\n",
    "    elif A[i] in ['W','X','Y','Z']:\n",
    "        count = count + 10\n",
    "    \n",
    "print(count)"
   ]
  },
  {
   "cell_type": "code",
   "execution_count": 37,
   "metadata": {},
   "outputs": [
    {
     "name": "stdout",
     "output_type": "stream",
     "text": [
      "ljes=njak\n",
      "6\n"
     ]
    }
   ],
   "source": [
    "#크로아티아 알파벳\n",
    "\"\"\"word = str(input())\n",
    "count = len(word)\n",
    "c_word = ['c=','c-','d-','lj','nj','s=']\n",
    "for i in range(len(word)):\n",
    "    if i != len(word)-1:\n",
    "        if word[i] == 'z' and word[i+1] == '=':\n",
    "            if word[i-1] == 'd':\n",
    "                count = count - 2 \n",
    "            else :\n",
    "                count = count - 1\n",
    "for j in range(len(c_word)):\n",
    "    if c_word[j] in word:\n",
    "        cnt = word.count(c_word[j])\n",
    "        count = count - cnt\n",
    "    else:\n",
    "        count = count\n",
    "print(count)\n",
    "왜 틀렸을까..?\n",
    "\"\"\"\n",
    "c = input()\n",
    "c = c.replace('c=','.')\n",
    "c = c.replace('c-','.')\n",
    "c = c.replace('dz=','.')\n",
    "c = c.replace('d-','.')\n",
    "c = c.replace('lj','.')\n",
    "c = c.replace('nj','.')\n",
    "c = c.replace('s=','.')\n",
    "c = c.replace('z=','.')\n",
    "\n",
    "print(len(c))\n",
    "\n"
   ]
  },
  {
   "cell_type": "code",
   "execution_count": 72,
   "metadata": {},
   "outputs": [
    {
     "name": "stdout",
     "output_type": "stream",
     "text": [
      "2\n",
      "jetboat\n",
      "e e\n",
      "1\n",
      "j j\n",
      "2\n",
      "o o\n",
      "3\n",
      "a a\n",
      "4\n",
      "b b\n",
      "5\n",
      "xddhgwq\n",
      "x x\n",
      "1\n",
      "h h\n",
      "2\n",
      "dd dd\n",
      "3\n",
      "w w\n",
      "4\n",
      "q q\n",
      "5\n",
      "g g\n",
      "6\n",
      "1\n"
     ]
    }
   ],
   "source": [
    "N = int(input())\n",
    "alphabet_list = []\n",
    "ans = 0\n",
    "for _ in range(N):\n",
    "    cnt = 0\n",
    "    word = str(input())\n",
    "    word2 = ''.join(set(word))\n",
    "    if len(word2) == len(word):\n",
    "        ans = ans + 1\n",
    "    else :\n",
    "        for i in word2:\n",
    "            a = word.find(i)\n",
    "            b= word.rfind(i)\n",
    "            if word[a:b+1] == i*(b-a+1):\n",
    "                cnt = cnt + 1\n",
    "        if cnt == len(word2):\n",
    "            ans = ans + 1\n",
    "            \n",
    "print(ans)"
   ]
  },
  
  {
   "cell_type": "code",
   "execution_count": null,
   "metadata": {},
   "outputs": [],
   "source": []
  }
 ],
 "metadata": {
  "kernelspec": {
   "display_name": "Python 3",
   "language": "python",
   "name": "python3"
  },
  "language_info": {
   "codemirror_mode": {
    "name": "ipython",
    "version": 3
   },
   "file_extension": ".py",
   "mimetype": "text/x-python",
   "name": "python",
   "nbconvert_exporter": "python",
   "pygments_lexer": "ipython3",
   "version": "3.7.6"
  }
 },
 "nbformat": 4,
 "nbformat_minor": 4
}
