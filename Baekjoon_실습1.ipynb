{
 "cells": [
  {
   "cell_type": "code",
   "execution_count": 2,
   "metadata": {},
   "outputs": [
    {
     "name": "stdout",
     "output_type": "stream",
     "text": [
      "10\n",
      "20\n",
      "30\n",
      "40\n",
      "50\n",
      "42\n"
     ]
    }
   ],
   "source": [
    "#평균점수\n",
    "a = int(input())\n",
    "b = int(input())\n",
    "c = int(input())\n",
    "d = int(input())\n",
    "e = int(input())\n",
    "f = 0\n",
    "score_list = [a,b,c,d,e]\n",
    "\n",
    "for i in range(len(score_list)):\n",
    "    if 0<= score_list[i]<=100 and score_list[i]%5 == 0:\n",
    "        if score_list[i] < 40 :\n",
    "            score_list[i] = 40\n",
    "        f = f + score_list[i]\n",
    "        \n",
    "print(int(f/len(score_list)))"
   ]
  },
  {
   "cell_type": "code",
   "execution_count": 3,
   "metadata": {},
   "outputs": [
    {
     "name": "stdout",
     "output_type": "stream",
     "text": [
      "800\n",
      "700\n",
      "900\n",
      "198\n",
      "330\n",
      "848\n"
     ]
    }
   ],
   "source": [
    "#가장 싼 세트메뉴\n",
    "price=[]\n",
    "set_price = []\n",
    "for _ in range(5):\n",
    "    s = int(input())\n",
    "    price.append(s)\n",
    "\n",
    "for i in range(3):\n",
    "    for j in range(3,5):\n",
    "        sprice = price[i]+price[j] - 50\n",
    "        set_price.append(sprice)\n",
    "print(min(set_price))"
   ]
  },
  {
   "cell_type": "code",
   "execution_count": 4,
   "metadata": {},
   "outputs": [
    {
     "name": "stdout",
     "output_type": "stream",
     "text": [
      "10 20 30\n",
      "20\n"
     ]
    }
   ],
   "source": [
    "#두번째로 큰 수\n",
    "a,b,c = map(int,input().split())\n",
    "num_list = [a,b,c]\n",
    "s_list = sorted(num_list)\n",
    "print(s_list[1])"
   ]
  },
  {
   "cell_type": "code",
   "execution_count": 5,
   "metadata": {},
   "outputs": [
    {
     "name": "stdout",
     "output_type": "stream",
     "text": [
      "3\n",
      "*\n",
      "**\n",
      "***\n",
      "**\n",
      "*\n"
     ]
    }
   ],
   "source": [
    "#별 찍기\n",
    "N = int(input())\n",
    "for i in range(1,N+1):\n",
    "    print('*'*i)\n",
    "for j in range(N-1,0,-1):\n",
    "    print('*'*j)"
   ]
  },
  {
   "cell_type": "code",
   "execution_count": 6,
   "metadata": {},
   "outputs": [
    {
     "name": "stdout",
     "output_type": "stream",
     "text": [
      "3\n",
      "*****\n",
      " ***\n",
      "  *\n",
      " ***\n",
      "*****\n"
     ]
    }
   ],
   "source": [
    "#별 찍기\n",
    "N = int(input())\n",
    "for i in range(N):\n",
    "    print(\" \"*i + \"*\"*(2*N-1-2*i))\n",
    "for j in range(2,N+1):\n",
    "    print(\" \"*(N-j)+\"*\"*(2*j-1))"
   ]
  },
  {
   "cell_type": "code",
   "execution_count": 7,
   "metadata": {},
   "outputs": [
    {
     "name": "stdout",
     "output_type": "stream",
     "text": [
      "3\n",
      "* * \n",
      " *\n",
      "* * \n",
      " *\n",
      "* * \n",
      " *\n"
     ]
    }
   ],
   "source": [
    "#별 찍기\n",
    "def star(N):\n",
    "    for _ in range(N):\n",
    "        if N%2 == 0:\n",
    "            print(\"* \"*int(N/2))\n",
    "            print(\" *\"*int(N/2))\n",
    "        else :\n",
    "            print(\"* \"*(int(N/2)+1))\n",
    "            print(\" *\"*(int(N/2)))\n",
    "            \n",
    "N = int(input())\n",
    "star(N)"
   ]
  },
  {
   "cell_type": "code",
   "execution_count": null,
   "metadata": {},
   "outputs": [],
   "source": []
  }
 ],
 "metadata": {
  "kernelspec": {
   "display_name": "Python 3",
   "language": "python",
   "name": "python3"
  },
  "language_info": {
   "codemirror_mode": {
    "name": "ipython",
    "version": 3
   },
   "file_extension": ".py",
   "mimetype": "text/x-python",
   "name": "python",
   "nbconvert_exporter": "python",
   "pygments_lexer": "ipython3",
   "version": "3.7.6"
  }
 },
 "nbformat": 4,
 "nbformat_minor": 4
}
