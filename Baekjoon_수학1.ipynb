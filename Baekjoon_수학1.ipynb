{
 "cells": [
  {
   "cell_type": "code",
   "execution_count": 1,
   "metadata": {},
   "outputs": [
    {
     "name": "stdout",
     "output_type": "stream",
     "text": [
      "1000 70 170\n",
      "11\n"
     ]
    }
   ],
   "source": [
    "#손익분기점 구하기\n",
    "A,B,C = map(int,input().split())\n",
    "if C>B:\n",
    "    print(int((A/(C-B)))+1)\n",
    "elif C <= B:\n",
    "    print(-1)"
   ]
  },
  {
   "cell_type": "code",
   "execution_count": 2,
   "metadata": {},
   "outputs": [
    {
     "name": "stdout",
     "output_type": "stream",
     "text": [
      "18\n",
      "4\n"
     ]
    }
   ],
   "source": [
    "#설탕 배달(3kg 봉지와 5kg 봉지로 배달)\n",
    "N = int(input())\n",
    "b = []\n",
    "for x in range(int((N/3)+1)):\n",
    "    if (N-3*x)/5 == int((N-3*x)/5):\n",
    "        b.append(int((2*x+N)/5))\n",
    "if len(b) == 0:\n",
    "    print(-1)\n",
    "else :\n",
    "    print(min(b))"
   ]
  },
  {
   "cell_type": "code",
   "execution_count": 8,
   "metadata": {},
   "outputs": [
    {
     "name": "stdout",
     "output_type": "stream",
     "text": [
      "58\n",
      "688\n",
      "685\n",
      "684\n",
      "685\n",
      "688\n",
      "693\n"
     ]
    }
   ],
   "source": [
    "#벌집\n",
    "import math\n",
    "N = int(input())\n",
    "for a in range(1,7):\n",
    "    b = ((a-9)**2)-12*(7-a-N)\n",
    "    print(b)\n",
    "    if b > 0 :\n",
    "        if int(math.sqrt(b)) == math.sqrt(b):\n",
    "            x = (-(a-9)+math.sqrt(((a-9)**2)-12*(7-a-N)))/6\n",
    "            print(int(x))\n",
    "        else : \n",
    "    "
   ]
  },
  {
   "cell_type": "code",
   "execution_count": null,
   "metadata": {},
   "outputs": [],
   "source": []
  }
 ],
 "metadata": {
  "kernelspec": {
   "display_name": "Python 3",
   "language": "python",
   "name": "python3"
  },
  "language_info": {
   "codemirror_mode": {
    "name": "ipython",
    "version": 3
   },
   "file_extension": ".py",
   "mimetype": "text/x-python",
   "name": "python",
   "nbconvert_exporter": "python",
   "pygments_lexer": "ipython3",
   "version": "3.7.6"
  }
 },
 "nbformat": 4,
 "nbformat_minor": 4
}
